{
 "cells": [
  {
   "cell_type": "code",
   "execution_count": 1,
   "metadata": {},
   "outputs": [],
   "source": [
    "# All imports\n",
    "import geopandas"
   ]
  },
  {
   "cell_type": "code",
   "execution_count": 2,
   "metadata": {},
   "outputs": [],
   "source": [
    "# The area of Nepal\n",
    "AREA_OF_NEPAL_SQ_KM = 147181"
   ]
  },
  {
   "cell_type": "markdown",
   "metadata": {},
   "source": [
    "## Glaciers in 1980"
   ]
  },
  {
   "cell_type": "code",
   "execution_count": 3,
   "metadata": {},
   "outputs": [],
   "source": [
    "# importing glacier datasets for the year 1980\n",
    "# The dataset was extracted from ICIMOD (http://www.icimod.org/)\n",
    "gp_1980 = geopandas.read_file('datasets/glacier_1980.geojson')"
   ]
  },
  {
   "cell_type": "code",
   "execution_count": 4,
   "metadata": {},
   "outputs": [
    {
     "data": {
      "text/plain": [
       "['ID',\n",
       " 'GLIMS_ID',\n",
       " 'Basin',\n",
       " 'Sub_Basin',\n",
       " 'Images',\n",
       " 'Longitude',\n",
       " 'Latitude',\n",
       " 'Class',\n",
       " 'Elv_min',\n",
       " 'Elv_mean',\n",
       " 'Elv_max',\n",
       " 'Slope_min',\n",
       " 'Slope_mean',\n",
       " 'Slope_max',\n",
       " 'Aspect',\n",
       " 'Area_SqKm',\n",
       " 'Thickness',\n",
       " 'Reserve',\n",
       " 'Year',\n",
       " 'Shape_area',\n",
       " 'Shape_len',\n",
       " 'geometry']"
      ]
     },
     "execution_count": 4,
     "metadata": {},
     "output_type": "execute_result"
    }
   ],
   "source": [
    "# properties of the shapefile\n",
    "list(gp_1980)"
   ]
  },
  {
   "cell_type": "code",
   "execution_count": 5,
   "metadata": {},
   "outputs": [
    {
     "data": {
      "text/html": [
       "<div>\n",
       "<style scoped>\n",
       "    .dataframe tbody tr th:only-of-type {\n",
       "        vertical-align: middle;\n",
       "    }\n",
       "\n",
       "    .dataframe tbody tr th {\n",
       "        vertical-align: top;\n",
       "    }\n",
       "\n",
       "    .dataframe thead th {\n",
       "        text-align: right;\n",
       "    }\n",
       "</style>\n",
       "<table border=\"1\" class=\"dataframe\">\n",
       "  <thead>\n",
       "    <tr style=\"text-align: right;\">\n",
       "      <th></th>\n",
       "      <th>ID</th>\n",
       "      <th>GLIMS_ID</th>\n",
       "      <th>Basin</th>\n",
       "      <th>Sub_Basin</th>\n",
       "      <th>Images</th>\n",
       "      <th>Longitude</th>\n",
       "      <th>Latitude</th>\n",
       "      <th>Class</th>\n",
       "      <th>Elv_min</th>\n",
       "      <th>Elv_mean</th>\n",
       "      <th>...</th>\n",
       "      <th>Slope_mean</th>\n",
       "      <th>Slope_max</th>\n",
       "      <th>Aspect</th>\n",
       "      <th>Area_SqKm</th>\n",
       "      <th>Thickness</th>\n",
       "      <th>Reserve</th>\n",
       "      <th>Year</th>\n",
       "      <th>Shape_area</th>\n",
       "      <th>Shape_len</th>\n",
       "      <th>geometry</th>\n",
       "    </tr>\n",
       "  </thead>\n",
       "  <tbody>\n",
       "    <tr>\n",
       "      <th>0</th>\n",
       "      <td>1</td>\n",
       "      <td>G083561E28889N</td>\n",
       "      <td>Gandaki</td>\n",
       "      <td>Kali Gandaki</td>\n",
       "      <td>m2153040_04019770109;m2153040_04019770322</td>\n",
       "      <td>83.560997</td>\n",
       "      <td>28.889000</td>\n",
       "      <td>63023</td>\n",
       "      <td>5582</td>\n",
       "      <td>5682</td>\n",
       "      <td>...</td>\n",
       "      <td>25</td>\n",
       "      <td>40</td>\n",
       "      <td>141</td>\n",
       "      <td>0.220</td>\n",
       "      <td>22.459999</td>\n",
       "      <td>0.00494</td>\n",
       "      <td>1980</td>\n",
       "      <td>0.000020</td>\n",
       "      <td>0.018211</td>\n",
       "      <td>POLYGON ((83.56361 28.89081, 83.56361 28.89066...</td>\n",
       "    </tr>\n",
       "    <tr>\n",
       "      <th>1</th>\n",
       "      <td>2</td>\n",
       "      <td>G083368E28685N</td>\n",
       "      <td>Gandaki</td>\n",
       "      <td>Kali Gandaki</td>\n",
       "      <td>m2153040_04019770109;m2153040_04019770322</td>\n",
       "      <td>83.367996</td>\n",
       "      <td>28.684999</td>\n",
       "      <td>63022</td>\n",
       "      <td>4789</td>\n",
       "      <td>5180</td>\n",
       "      <td>...</td>\n",
       "      <td>41</td>\n",
       "      <td>48</td>\n",
       "      <td>235</td>\n",
       "      <td>0.363</td>\n",
       "      <td>27.940001</td>\n",
       "      <td>0.01014</td>\n",
       "      <td>1980</td>\n",
       "      <td>0.000034</td>\n",
       "      <td>0.026328</td>\n",
       "      <td>POLYGON ((83.37207 28.68630, 83.37269 28.68565...</td>\n",
       "    </tr>\n",
       "    <tr>\n",
       "      <th>2</th>\n",
       "      <td>3</td>\n",
       "      <td>G083725E28710N</td>\n",
       "      <td>Gandaki</td>\n",
       "      <td>Kali Gandaki</td>\n",
       "      <td>m2153040_04019770109;m2153040_04019770322</td>\n",
       "      <td>83.724998</td>\n",
       "      <td>28.709999</td>\n",
       "      <td>67023</td>\n",
       "      <td>5226</td>\n",
       "      <td>5279</td>\n",
       "      <td>...</td>\n",
       "      <td>39</td>\n",
       "      <td>43</td>\n",
       "      <td>177</td>\n",
       "      <td>0.035</td>\n",
       "      <td>8.140000</td>\n",
       "      <td>0.00028</td>\n",
       "      <td>1980</td>\n",
       "      <td>0.000003</td>\n",
       "      <td>0.006761</td>\n",
       "      <td>POLYGON ((83.72566 28.70881, 83.72500 28.70870...</td>\n",
       "    </tr>\n",
       "    <tr>\n",
       "      <th>3</th>\n",
       "      <td>4</td>\n",
       "      <td>G083757E28711N</td>\n",
       "      <td>Gandaki</td>\n",
       "      <td>Kali Gandaki</td>\n",
       "      <td>m2153040_04019770109;m2153040_04019770322</td>\n",
       "      <td>83.757004</td>\n",
       "      <td>28.711000</td>\n",
       "      <td>63022</td>\n",
       "      <td>4233</td>\n",
       "      <td>4404</td>\n",
       "      <td>...</td>\n",
       "      <td>27</td>\n",
       "      <td>42</td>\n",
       "      <td>160</td>\n",
       "      <td>0.327</td>\n",
       "      <td>26.730000</td>\n",
       "      <td>0.00874</td>\n",
       "      <td>1980</td>\n",
       "      <td>0.000030</td>\n",
       "      <td>0.024928</td>\n",
       "      <td>POLYGON ((83.76065 28.70964, 83.76070 28.70922...</td>\n",
       "    </tr>\n",
       "    <tr>\n",
       "      <th>4</th>\n",
       "      <td>5</td>\n",
       "      <td>G083773E28706N</td>\n",
       "      <td>Gandaki</td>\n",
       "      <td>Kali Gandaki</td>\n",
       "      <td>m2153040_04019770109;m2153040_04019770322</td>\n",
       "      <td>83.773003</td>\n",
       "      <td>28.705999</td>\n",
       "      <td>62022</td>\n",
       "      <td>4251</td>\n",
       "      <td>4500</td>\n",
       "      <td>...</td>\n",
       "      <td>25</td>\n",
       "      <td>45</td>\n",
       "      <td>188</td>\n",
       "      <td>0.885</td>\n",
       "      <td>39.980000</td>\n",
       "      <td>0.03538</td>\n",
       "      <td>1980</td>\n",
       "      <td>0.000082</td>\n",
       "      <td>0.047974</td>\n",
       "      <td>POLYGON ((83.76950 28.71173, 83.77051 28.71167...</td>\n",
       "    </tr>\n",
       "  </tbody>\n",
       "</table>\n",
       "<p>5 rows × 22 columns</p>\n",
       "</div>"
      ],
      "text/plain": [
       "   ID        GLIMS_ID    Basin     Sub_Basin  \\\n",
       "0   1  G083561E28889N  Gandaki  Kali Gandaki   \n",
       "1   2  G083368E28685N  Gandaki  Kali Gandaki   \n",
       "2   3  G083725E28710N  Gandaki  Kali Gandaki   \n",
       "3   4  G083757E28711N  Gandaki  Kali Gandaki   \n",
       "4   5  G083773E28706N  Gandaki  Kali Gandaki   \n",
       "\n",
       "                                      Images  Longitude   Latitude  Class  \\\n",
       "0  m2153040_04019770109;m2153040_04019770322  83.560997  28.889000  63023   \n",
       "1  m2153040_04019770109;m2153040_04019770322  83.367996  28.684999  63022   \n",
       "2  m2153040_04019770109;m2153040_04019770322  83.724998  28.709999  67023   \n",
       "3  m2153040_04019770109;m2153040_04019770322  83.757004  28.711000  63022   \n",
       "4  m2153040_04019770109;m2153040_04019770322  83.773003  28.705999  62022   \n",
       "\n",
       "   Elv_min  Elv_mean  ...  Slope_mean  Slope_max  Aspect  Area_SqKm  \\\n",
       "0     5582      5682  ...          25         40     141      0.220   \n",
       "1     4789      5180  ...          41         48     235      0.363   \n",
       "2     5226      5279  ...          39         43     177      0.035   \n",
       "3     4233      4404  ...          27         42     160      0.327   \n",
       "4     4251      4500  ...          25         45     188      0.885   \n",
       "\n",
       "   Thickness  Reserve  Year  Shape_area  Shape_len  \\\n",
       "0  22.459999  0.00494  1980    0.000020   0.018211   \n",
       "1  27.940001  0.01014  1980    0.000034   0.026328   \n",
       "2   8.140000  0.00028  1980    0.000003   0.006761   \n",
       "3  26.730000  0.00874  1980    0.000030   0.024928   \n",
       "4  39.980000  0.03538  1980    0.000082   0.047974   \n",
       "\n",
       "                                            geometry  \n",
       "0  POLYGON ((83.56361 28.89081, 83.56361 28.89066...  \n",
       "1  POLYGON ((83.37207 28.68630, 83.37269 28.68565...  \n",
       "2  POLYGON ((83.72566 28.70881, 83.72500 28.70870...  \n",
       "3  POLYGON ((83.76065 28.70964, 83.76070 28.70922...  \n",
       "4  POLYGON ((83.76950 28.71173, 83.77051 28.71167...  \n",
       "\n",
       "[5 rows x 22 columns]"
      ]
     },
     "execution_count": 5,
     "metadata": {},
     "output_type": "execute_result"
    }
   ],
   "source": [
    "gp_1980.head()"
   ]
  },
  {
   "cell_type": "code",
   "execution_count": 6,
   "metadata": {},
   "outputs": [
    {
     "data": {
      "text/plain": [
       "(3430, 22)"
      ]
     },
     "execution_count": 6,
     "metadata": {},
     "output_type": "execute_result"
    }
   ],
   "source": [
    "gp_1980.shape"
   ]
  },
  {
   "cell_type": "code",
   "execution_count": 23,
   "metadata": {},
   "outputs": [
    {
     "data": {
      "text/plain": [
       "<matplotlib.axes._subplots.AxesSubplot at 0x203fbc47978>"
      ]
     },
     "execution_count": 23,
     "metadata": {},
     "output_type": "execute_result"
    },
    {
     "data": {
      "image/png": "[encoded data removed]",
      "text/plain": [
       "<Figure size 432x288 with 1 Axes>"
      ]
     },
     "metadata": {
      "needs_background": "light"
     },
     "output_type": "display_data"
    }
   ],
   "source": [
    "gp_1980.plot()"
   ]
  },
  {
   "cell_type": "code",
   "execution_count": 8,
   "metadata": {},
   "outputs": [],
   "source": [
    "area_of_glaciers_in_1980 = gp_1980.Area_SqKm.sum()"
   ]
  },
  {
   "cell_type": "code",
   "execution_count": 9,
   "metadata": {},
   "outputs": [],
   "source": [
    "area1980_in_percentage = 100*area_of_glaciers_in_1980/AREA_OF_NEPAL_SQ_KM"
   ]
  },
  {
   "cell_type": "markdown",
   "metadata": {},
   "source": [
    "## Glaciers in 2010"
   ]
  },
  {
   "cell_type": "code",
   "execution_count": 10,
   "metadata": {},
   "outputs": [],
   "source": [
    "# importing glacier datasets for the year 1980\n",
    "gp_2010 = geopandas.read_file('datasets/glacier_2010.geojson')"
   ]
  },
  {
   "cell_type": "code",
   "execution_count": 11,
   "metadata": {},
   "outputs": [
    {
     "data": {
      "text/plain": [
       "['ID',\n",
       " 'GLIMS_ID',\n",
       " 'Basin',\n",
       " 'Sub_Basin',\n",
       " 'Images',\n",
       " 'Longitude',\n",
       " 'Latitude',\n",
       " 'Class',\n",
       " 'Elv_min',\n",
       " 'Elv_mean',\n",
       " 'Elv_max',\n",
       " 'Slope_min',\n",
       " 'Slope_mean',\n",
       " 'Slope_max',\n",
       " 'Aspect',\n",
       " 'Area_SqKm',\n",
       " 'Thickness',\n",
       " 'Reserve',\n",
       " 'Year',\n",
       " 'Shape_area',\n",
       " 'Shape_len',\n",
       " 'geometry']"
      ]
     },
     "execution_count": 11,
     "metadata": {},
     "output_type": "execute_result"
    }
   ],
   "source": [
    "# properties of the shapefile\n",
    "list(gp_2010)"
   ]
  },
  {
   "cell_type": "code",
   "execution_count": 12,
   "metadata": {},
   "outputs": [
    {
     "data": {
      "text/html": [
       "<div>\n",
       "<style scoped>\n",
       "    .dataframe tbody tr th:only-of-type {\n",
       "        vertical-align: middle;\n",
       "    }\n",
       "\n",
       "    .dataframe tbody tr th {\n",
       "        vertical-align: top;\n",
       "    }\n",
       "\n",
       "    .dataframe thead th {\n",
       "        text-align: right;\n",
       "    }\n",
       "</style>\n",
       "<table border=\"1\" class=\"dataframe\">\n",
       "  <thead>\n",
       "    <tr style=\"text-align: right;\">\n",
       "      <th></th>\n",
       "      <th>ID</th>\n",
       "      <th>GLIMS_ID</th>\n",
       "      <th>Basin</th>\n",
       "      <th>Sub_Basin</th>\n",
       "      <th>Images</th>\n",
       "      <th>Longitude</th>\n",
       "      <th>Latitude</th>\n",
       "      <th>Class</th>\n",
       "      <th>Elv_min</th>\n",
       "      <th>Elv_mean</th>\n",
       "      <th>...</th>\n",
       "      <th>Slope_mean</th>\n",
       "      <th>Slope_max</th>\n",
       "      <th>Aspect</th>\n",
       "      <th>Area_SqKm</th>\n",
       "      <th>Thickness</th>\n",
       "      <th>Reserve</th>\n",
       "      <th>Year</th>\n",
       "      <th>Shape_area</th>\n",
       "      <th>Shape_len</th>\n",
       "      <th>geometry</th>\n",
       "    </tr>\n",
       "  </thead>\n",
       "  <tbody>\n",
       "    <tr>\n",
       "      <th>0</th>\n",
       "      <td>1</td>\n",
       "      <td>G080965E30189N</td>\n",
       "      <td>Mahakali</td>\n",
       "      <td>Mahakali</td>\n",
       "      <td>l5144039_03920101115; l72144039_03920111212</td>\n",
       "      <td>80.964996</td>\n",
       "      <td>30.188999</td>\n",
       "      <td>63022</td>\n",
       "      <td>4931</td>\n",
       "      <td>5019</td>\n",
       "      <td>...</td>\n",
       "      <td>26</td>\n",
       "      <td>46</td>\n",
       "      <td>155</td>\n",
       "      <td>0.120</td>\n",
       "      <td>16.850000</td>\n",
       "      <td>0.00202</td>\n",
       "      <td>2010</td>\n",
       "      <td>0.000011</td>\n",
       "      <td>0.014137</td>\n",
       "      <td>POLYGON ((80.96533 30.18661, 80.96460 30.18654...</td>\n",
       "    </tr>\n",
       "    <tr>\n",
       "      <th>1</th>\n",
       "      <td>2</td>\n",
       "      <td>G081031E30199N</td>\n",
       "      <td>Mahakali</td>\n",
       "      <td>Mahakali</td>\n",
       "      <td>l5144039_03920101115; l72144039_03920111212</td>\n",
       "      <td>81.030998</td>\n",
       "      <td>30.198999</td>\n",
       "      <td>62022</td>\n",
       "      <td>5059</td>\n",
       "      <td>5243</td>\n",
       "      <td>...</td>\n",
       "      <td>25</td>\n",
       "      <td>42</td>\n",
       "      <td>240</td>\n",
       "      <td>0.306</td>\n",
       "      <td>25.980000</td>\n",
       "      <td>0.00795</td>\n",
       "      <td>2010</td>\n",
       "      <td>0.000029</td>\n",
       "      <td>0.034532</td>\n",
       "      <td>POLYGON ((81.02678 30.19988, 81.02686 30.19920...</td>\n",
       "    </tr>\n",
       "    <tr>\n",
       "      <th>2</th>\n",
       "      <td>3</td>\n",
       "      <td>G080926E30188N</td>\n",
       "      <td>Mahakali</td>\n",
       "      <td>Mahakali</td>\n",
       "      <td>l5144039_03920101115; l72144039_03920111212</td>\n",
       "      <td>80.926002</td>\n",
       "      <td>30.188000</td>\n",
       "      <td>53012</td>\n",
       "      <td>4426</td>\n",
       "      <td>4895</td>\n",
       "      <td>...</td>\n",
       "      <td>25</td>\n",
       "      <td>57</td>\n",
       "      <td>243</td>\n",
       "      <td>1.599</td>\n",
       "      <td>49.939999</td>\n",
       "      <td>0.07985</td>\n",
       "      <td>2010</td>\n",
       "      <td>0.000150</td>\n",
       "      <td>0.096232</td>\n",
       "      <td>POLYGON ((80.92477 30.20173, 80.92490 30.20127...</td>\n",
       "    </tr>\n",
       "    <tr>\n",
       "      <th>3</th>\n",
       "      <td>4</td>\n",
       "      <td>G080949E30196N</td>\n",
       "      <td>Mahakali</td>\n",
       "      <td>Mahakali</td>\n",
       "      <td>l5144039_03920101115; l72144039_03920111212</td>\n",
       "      <td>80.948997</td>\n",
       "      <td>30.195999</td>\n",
       "      <td>63022</td>\n",
       "      <td>4419</td>\n",
       "      <td>4790</td>\n",
       "      <td>...</td>\n",
       "      <td>25</td>\n",
       "      <td>57</td>\n",
       "      <td>224</td>\n",
       "      <td>0.988</td>\n",
       "      <td>41.700001</td>\n",
       "      <td>0.04120</td>\n",
       "      <td>2010</td>\n",
       "      <td>0.000093</td>\n",
       "      <td>0.066638</td>\n",
       "      <td>POLYGON ((80.95296 30.18995, 80.95307 30.18957...</td>\n",
       "    </tr>\n",
       "    <tr>\n",
       "      <th>4</th>\n",
       "      <td>5</td>\n",
       "      <td>G080955E30177N</td>\n",
       "      <td>Mahakali</td>\n",
       "      <td>Mahakali</td>\n",
       "      <td>l5144039_03920101115; l72144039_03920111212</td>\n",
       "      <td>80.955002</td>\n",
       "      <td>30.177000</td>\n",
       "      <td>64022</td>\n",
       "      <td>4782</td>\n",
       "      <td>5185</td>\n",
       "      <td>...</td>\n",
       "      <td>25</td>\n",
       "      <td>61</td>\n",
       "      <td>136</td>\n",
       "      <td>0.686</td>\n",
       "      <td>36.200001</td>\n",
       "      <td>0.02483</td>\n",
       "      <td>2010</td>\n",
       "      <td>0.000064</td>\n",
       "      <td>0.042031</td>\n",
       "      <td>POLYGON ((80.95791 30.17867, 80.95846 30.17865...</td>\n",
       "    </tr>\n",
       "  </tbody>\n",
       "</table>\n",
       "<p>5 rows × 22 columns</p>\n",
       "</div>"
      ],
      "text/plain": [
       "   ID        GLIMS_ID     Basin Sub_Basin  \\\n",
       "0   1  G080965E30189N  Mahakali  Mahakali   \n",
       "1   2  G081031E30199N  Mahakali  Mahakali   \n",
       "2   3  G080926E30188N  Mahakali  Mahakali   \n",
       "3   4  G080949E30196N  Mahakali  Mahakali   \n",
       "4   5  G080955E30177N  Mahakali  Mahakali   \n",
       "\n",
       "                                        Images  Longitude   Latitude  Class  \\\n",
       "0  l5144039_03920101115; l72144039_03920111212  80.964996  30.188999  63022   \n",
       "1  l5144039_03920101115; l72144039_03920111212  81.030998  30.198999  62022   \n",
       "2  l5144039_03920101115; l72144039_03920111212  80.926002  30.188000  53012   \n",
       "3  l5144039_03920101115; l72144039_03920111212  80.948997  30.195999  63022   \n",
       "4  l5144039_03920101115; l72144039_03920111212  80.955002  30.177000  64022   \n",
       "\n",
       "   Elv_min  Elv_mean  ...  Slope_mean  Slope_max  Aspect  Area_SqKm  \\\n",
       "0     4931      5019  ...          26         46     155      0.120   \n",
       "1     5059      5243  ...          25         42     240      0.306   \n",
       "2     4426      4895  ...          25         57     243      1.599   \n",
       "3     4419      4790  ...          25         57     224      0.988   \n",
       "4     4782      5185  ...          25         61     136      0.686   \n",
       "\n",
       "   Thickness  Reserve  Year  Shape_area  Shape_len  \\\n",
       "0  16.850000  0.00202  2010    0.000011   0.014137   \n",
       "1  25.980000  0.00795  2010    0.000029   0.034532   \n",
       "2  49.939999  0.07985  2010    0.000150   0.096232   \n",
       "3  41.700001  0.04120  2010    0.000093   0.066638   \n",
       "4  36.200001  0.02483  2010    0.000064   0.042031   \n",
       "\n",
       "                                            geometry  \n",
       "0  POLYGON ((80.96533 30.18661, 80.96460 30.18654...  \n",
       "1  POLYGON ((81.02678 30.19988, 81.02686 30.19920...  \n",
       "2  POLYGON ((80.92477 30.20173, 80.92490 30.20127...  \n",
       "3  POLYGON ((80.95296 30.18995, 80.95307 30.18957...  \n",
       "4  POLYGON ((80.95791 30.17867, 80.95846 30.17865...  \n",
       "\n",
       "[5 rows x 22 columns]"
      ]
     },
     "execution_count": 12,
     "metadata": {},
     "output_type": "execute_result"
    }
   ],
   "source": [
    "gp_2010.head()"
   ]
  },
  {
   "cell_type": "code",
   "execution_count": 13,
   "metadata": {},
   "outputs": [
    {
     "data": {
      "text/plain": [
       "(3808, 22)"
      ]
     },
     "execution_count": 13,
     "metadata": {},
     "output_type": "execute_result"
    }
   ],
   "source": [
    "gp_2010.shape"
   ]
  },
  {
   "cell_type": "code",
   "execution_count": 14,
   "metadata": {},
   "outputs": [
    {
     "data": {
      "text/plain": [
       "<matplotlib.axes._subplots.AxesSubplot at 0x203fced4a20>"
      ]
     },
     "execution_count": 14,
     "metadata": {},
     "output_type": "execute_result"
    },
    {
     "data": {
      "image/png": "[encoded data removed]",
      "text/plain": [
       "<Figure size 432x288 with 1 Axes>"
      ]
     },
     "metadata": {
      "needs_background": "light"
     },
     "output_type": "display_data"
    }
   ],
   "source": [
    "gp_2010.plot()"
   ]
  },
  {
   "cell_type": "code",
   "execution_count": 15,
   "metadata": {},
   "outputs": [],
   "source": [
    "area_of_glaciers_in_2010 = gp_2010.Area_SqKm.sum()"
   ]
  },
  {
   "cell_type": "code",
   "execution_count": 16,
   "metadata": {},
   "outputs": [],
   "source": [
    "area2010_in_percentage = 100*area_of_glaciers_in_2010/AREA_OF_NEPAL_SQ_KM"
   ]
  },
  {
   "cell_type": "markdown",
   "metadata": {},
   "source": [
    "## Decrease in Area"
   ]
  },
  {
   "cell_type": "code",
   "execution_count": 22,
   "metadata": {},
   "outputs": [
    {
     "name": "stdout",
     "output_type": "stream",
     "text": [
      "Between 1980 to 2010, the overall land area of Nepal covered by glaciers decreased from 3.5117141318172864 to 2.6514577151874223\n"
     ]
    }
   ],
   "source": [
    "print ('Between 1980 to 2010, the overall land area of Nepal covered by glaciers decreased from '+str(area1980_in_percentage)+' to '+ str(area2010_in_percentage))"
   ]
  },
  {
   "cell_type": "code",
   "execution_count": null,
   "metadata": {},
   "outputs": [],
   "source": []
  }
 ],
 "metadata": {
  "kernelspec": {
   "display_name": "Python 3",
   "language": "python",
   "name": "python3"
  },
  "language_info": {
   "codemirror_mode": {
    "name": "ipython",
    "version": 3
   },
   "file_extension": ".py",
   "mimetype": "text/x-python",
   "name": "python",
   "nbconvert_exporter": "python",
   "pygments_lexer": "ipython3",
   "version": "3.7.3"
  }
 },
 "nbformat": 4,
 "nbformat_minor": 2
}
