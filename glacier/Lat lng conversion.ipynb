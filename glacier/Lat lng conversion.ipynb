{
 "cells": [
  {
   "cell_type": "code",
   "execution_count": 8,
   "metadata": {},
   "outputs": [],
   "source": [
    "import pandas as pd\n",
    "import re"
   ]
  },
  {
   "cell_type": "code",
   "execution_count": 9,
   "metadata": {},
   "outputs": [],
   "source": [
    "df = pd.read_csv('/Users/ayush.LAPTOP-A9620OED/Downloads/mountains_image.csv')"
   ]
  },
  {
   "cell_type": "code",
   "execution_count": 33,
   "metadata": {
    "scrolled": true
   },
   "outputs": [
    {
     "data": {
      "text/html": [
       "<div>\n",
       "<style scoped>\n",
       "    .dataframe tbody tr th:only-of-type {\n",
       "        vertical-align: middle;\n",
       "    }\n",
       "\n",
       "    .dataframe tbody tr th {\n",
       "        vertical-align: top;\n",
       "    }\n",
       "\n",
       "    .dataframe thead th {\n",
       "        text-align: right;\n",
       "    }\n",
       "</style>\n",
       "<table border=\"1\" class=\"dataframe\">\n",
       "  <thead>\n",
       "    <tr style=\"text-align: right;\">\n",
       "      <th></th>\n",
       "      <th>mountains</th>\n",
       "      <th>picture</th>\n",
       "      <th>coordinate</th>\n",
       "      <th>lat</th>\n",
       "      <th>lon</th>\n",
       "    </tr>\n",
       "  </thead>\n",
       "  <tbody>\n",
       "    <tr>\n",
       "      <th>0</th>\n",
       "      <td>Mount Everest</td>\n",
       "      <td>https://upload.wikimedia.org/wikipedia/commons...</td>\n",
       "      <td>27°59′17″N 86°55′31″E</td>\n",
       "      <td>27.988056</td>\n",
       "      <td>86.925278</td>\n",
       "    </tr>\n",
       "    <tr>\n",
       "      <th>1</th>\n",
       "      <td>Kanchenjunga</td>\n",
       "      <td>https://upload.wikimedia.org/wikipedia/commons...</td>\n",
       "      <td>27°42′09″N 88°08′48″E</td>\n",
       "      <td>27.702500</td>\n",
       "      <td>88.146667</td>\n",
       "    </tr>\n",
       "    <tr>\n",
       "      <th>2</th>\n",
       "      <td>Lhotse</td>\n",
       "      <td>https://upload.wikimedia.org/wikipedia/commons...</td>\n",
       "      <td>27°57′42″N 86°56′00″E</td>\n",
       "      <td>27.961667</td>\n",
       "      <td>86.933333</td>\n",
       "    </tr>\n",
       "    <tr>\n",
       "      <th>3</th>\n",
       "      <td>Makalu</td>\n",
       "      <td>https://upload.wikimedia.org/wikipedia/commons...</td>\n",
       "      <td>27°53′21″N 87°05′19″E</td>\n",
       "      <td>27.889167</td>\n",
       "      <td>87.088611</td>\n",
       "    </tr>\n",
       "    <tr>\n",
       "      <th>4</th>\n",
       "      <td>Cho Oyu</td>\n",
       "      <td>https://upload.wikimedia.org/wikipedia/commons...</td>\n",
       "      <td>28°05′39″N 86°39′39″E</td>\n",
       "      <td>28.094167</td>\n",
       "      <td>86.660833</td>\n",
       "    </tr>\n",
       "    <tr>\n",
       "      <th>5</th>\n",
       "      <td>Dhaulagiri I</td>\n",
       "      <td>https://upload.wikimedia.org/wikipedia/commons...</td>\n",
       "      <td>28°41′54″N 83°29′15″E</td>\n",
       "      <td>28.698333</td>\n",
       "      <td>83.487500</td>\n",
       "    </tr>\n",
       "    <tr>\n",
       "      <th>6</th>\n",
       "      <td>Manaslu</td>\n",
       "      <td>https://upload.wikimedia.org/wikipedia/commons...</td>\n",
       "      <td>28°32′58″N 84°33′43″E</td>\n",
       "      <td>28.549444</td>\n",
       "      <td>84.561944</td>\n",
       "    </tr>\n",
       "    <tr>\n",
       "      <th>7</th>\n",
       "      <td>Annapurna I</td>\n",
       "      <td>https://upload.wikimedia.org/wikipedia/commons...</td>\n",
       "      <td>28°35′46″N 83°49′13″E</td>\n",
       "      <td>28.596111</td>\n",
       "      <td>83.820278</td>\n",
       "    </tr>\n",
       "    <tr>\n",
       "      <th>8</th>\n",
       "      <td>Gyachung Kang</td>\n",
       "      <td>https://upload.wikimedia.org/wikipedia/commons...</td>\n",
       "      <td>28°05′53″N 86°44′32″E</td>\n",
       "      <td>28.098056</td>\n",
       "      <td>86.742222</td>\n",
       "    </tr>\n",
       "    <tr>\n",
       "      <th>9</th>\n",
       "      <td>Annapurna II</td>\n",
       "      <td>https://upload.wikimedia.org/wikipedia/commons...</td>\n",
       "      <td>28°32′9″N 84°7′17″E</td>\n",
       "      <td>28.535833</td>\n",
       "      <td>84.121389</td>\n",
       "    </tr>\n",
       "    <tr>\n",
       "      <th>10</th>\n",
       "      <td>Himalchuli</td>\n",
       "      <td>https://upload.wikimedia.org/wikipedia/commons...</td>\n",
       "      <td>28°26′03″N 84°38′15″E</td>\n",
       "      <td>28.434167</td>\n",
       "      <td>84.637500</td>\n",
       "    </tr>\n",
       "    <tr>\n",
       "      <th>11</th>\n",
       "      <td>Ngadi Chuli</td>\n",
       "      <td>https://upload.wikimedia.org/wikipedia/commons...</td>\n",
       "      <td>28°30′12″N 84°34′03″E</td>\n",
       "      <td>28.503333</td>\n",
       "      <td>84.567500</td>\n",
       "    </tr>\n",
       "    <tr>\n",
       "      <th>12</th>\n",
       "      <td>Nuptse</td>\n",
       "      <td>https://upload.wikimedia.org/wikipedia/commons...</td>\n",
       "      <td>27°57′59″N 86°53′24″E</td>\n",
       "      <td>27.966389</td>\n",
       "      <td>86.890000</td>\n",
       "    </tr>\n",
       "    <tr>\n",
       "      <th>13</th>\n",
       "      <td>Dhaulagiri II</td>\n",
       "      <td>https://upload.wikimedia.org/wikipedia/commons...</td>\n",
       "      <td>28°41′54″N 83°29′15″E</td>\n",
       "      <td>28.698333</td>\n",
       "      <td>83.487500</td>\n",
       "    </tr>\n",
       "    <tr>\n",
       "      <th>14</th>\n",
       "      <td>Jannu</td>\n",
       "      <td>https://upload.wikimedia.org/wikipedia/commons...</td>\n",
       "      <td>27°40′58″N 88°02′45″E</td>\n",
       "      <td>27.682778</td>\n",
       "      <td>88.045833</td>\n",
       "    </tr>\n",
       "    <tr>\n",
       "      <th>15</th>\n",
       "      <td>Dhaulagiri IV</td>\n",
       "      <td>https://upload.wikimedia.org/wikipedia/commons...</td>\n",
       "      <td>28°41′54″N 83°29′15″E</td>\n",
       "      <td>28.698333</td>\n",
       "      <td>83.487500</td>\n",
       "    </tr>\n",
       "    <tr>\n",
       "      <th>16</th>\n",
       "      <td>Dhaulagiri V</td>\n",
       "      <td>https://upload.wikimedia.org/wikipedia/commons...</td>\n",
       "      <td>28°41′54″N 83°29′15″E</td>\n",
       "      <td>28.698333</td>\n",
       "      <td>83.487500</td>\n",
       "    </tr>\n",
       "    <tr>\n",
       "      <th>17</th>\n",
       "      <td>Annapurna III</td>\n",
       "      <td>https://upload.wikimedia.org/wikipedia/commons...</td>\n",
       "      <td>28°35′8″N 83°59′22″E</td>\n",
       "      <td>28.585556</td>\n",
       "      <td>83.989444</td>\n",
       "    </tr>\n",
       "    <tr>\n",
       "      <th>18</th>\n",
       "      <td>Jongsong Peak</td>\n",
       "      <td>https://upload.wikimedia.org/wikipedia/commons...</td>\n",
       "      <td>27°53′N 88°08′E</td>\n",
       "      <td>27.883333</td>\n",
       "      <td>88.133333</td>\n",
       "    </tr>\n",
       "    <tr>\n",
       "      <th>19</th>\n",
       "      <td>Gangapurna</td>\n",
       "      <td>https://upload.wikimedia.org/wikipedia/commons...</td>\n",
       "      <td>28°35′46″N 83°49′13″E</td>\n",
       "      <td>28.596111</td>\n",
       "      <td>83.820278</td>\n",
       "    </tr>\n",
       "  </tbody>\n",
       "</table>\n",
       "</div>"
      ],
      "text/plain": [
       "        mountains                                            picture  \\\n",
       "0   Mount Everest  https://upload.wikimedia.org/wikipedia/commons...   \n",
       "1    Kanchenjunga  https://upload.wikimedia.org/wikipedia/commons...   \n",
       "2          Lhotse  https://upload.wikimedia.org/wikipedia/commons...   \n",
       "3          Makalu  https://upload.wikimedia.org/wikipedia/commons...   \n",
       "4         Cho Oyu  https://upload.wikimedia.org/wikipedia/commons...   \n",
       "5    Dhaulagiri I  https://upload.wikimedia.org/wikipedia/commons...   \n",
       "6         Manaslu  https://upload.wikimedia.org/wikipedia/commons...   \n",
       "7     Annapurna I  https://upload.wikimedia.org/wikipedia/commons...   \n",
       "8   Gyachung Kang  https://upload.wikimedia.org/wikipedia/commons...   \n",
       "9    Annapurna II  https://upload.wikimedia.org/wikipedia/commons...   \n",
       "10     Himalchuli  https://upload.wikimedia.org/wikipedia/commons...   \n",
       "11    Ngadi Chuli  https://upload.wikimedia.org/wikipedia/commons...   \n",
       "12         Nuptse  https://upload.wikimedia.org/wikipedia/commons...   \n",
       "13  Dhaulagiri II  https://upload.wikimedia.org/wikipedia/commons...   \n",
       "14          Jannu  https://upload.wikimedia.org/wikipedia/commons...   \n",
       "15  Dhaulagiri IV  https://upload.wikimedia.org/wikipedia/commons...   \n",
       "16   Dhaulagiri V  https://upload.wikimedia.org/wikipedia/commons...   \n",
       "17  Annapurna III  https://upload.wikimedia.org/wikipedia/commons...   \n",
       "18  Jongsong Peak  https://upload.wikimedia.org/wikipedia/commons...   \n",
       "19     Gangapurna  https://upload.wikimedia.org/wikipedia/commons...   \n",
       "\n",
       "               coordinate        lat        lon  \n",
       "0   27°59′17″N 86°55′31″E  27.988056  86.925278  \n",
       "1   27°42′09″N 88°08′48″E  27.702500  88.146667  \n",
       "2   27°57′42″N 86°56′00″E  27.961667  86.933333  \n",
       "3   27°53′21″N 87°05′19″E  27.889167  87.088611  \n",
       "4   28°05′39″N 86°39′39″E  28.094167  86.660833  \n",
       "5   28°41′54″N 83°29′15″E  28.698333  83.487500  \n",
       "6   28°32′58″N 84°33′43″E  28.549444  84.561944  \n",
       "7   28°35′46″N 83°49′13″E  28.596111  83.820278  \n",
       "8   28°05′53″N 86°44′32″E  28.098056  86.742222  \n",
       "9     28°32′9″N 84°7′17″E  28.535833  84.121389  \n",
       "10  28°26′03″N 84°38′15″E  28.434167  84.637500  \n",
       "11  28°30′12″N 84°34′03″E  28.503333  84.567500  \n",
       "12  27°57′59″N 86°53′24″E  27.966389  86.890000  \n",
       "13  28°41′54″N 83°29′15″E  28.698333  83.487500  \n",
       "14  27°40′58″N 88°02′45″E  27.682778  88.045833  \n",
       "15  28°41′54″N 83°29′15″E  28.698333  83.487500  \n",
       "16  28°41′54″N 83°29′15″E  28.698333  83.487500  \n",
       "17   28°35′8″N 83°59′22″E  28.585556  83.989444  \n",
       "18        27°53′N 88°08′E  27.883333  88.133333  \n",
       "19  28°35′46″N 83°49′13″E  28.596111  83.820278  "
      ]
     },
     "execution_count": 33,
     "metadata": {},
     "output_type": "execute_result"
    }
   ],
   "source": [
    "df.head(20) "
   ]
  },
  {
   "cell_type": "code",
   "execution_count": 11,
   "metadata": {},
   "outputs": [
    {
     "data": {
      "text/plain": [
       "'27°59′17″N'"
      ]
     },
     "execution_count": 11,
     "metadata": {},
     "output_type": "execute_result"
    }
   ],
   "source": [
    "\"27°59′17″N 86°55′31″E\".split()[0]"
   ]
  },
  {
   "cell_type": "code",
   "execution_count": 17,
   "metadata": {},
   "outputs": [],
   "source": [
    "def dms2dec(dms_str, list_index=0):\n",
    "    dms_str = dms_str.split()[list_index]\n",
    "    \"\"\"Return decimal representation of DMS\n",
    "    \n",
    "    >>> dms2dec(utf8(48°53'10.18\"N))\n",
    "    48.8866111111F\n",
    "    \n",
    "    >>> dms2dec(utf8(2°20'35.09\"E))\n",
    "    2.34330555556F\n",
    "    \n",
    "    >>> dms2dec(utf8(48°53'10.18\"S))\n",
    "    -48.8866111111F\n",
    "    \n",
    "    >>> dms2dec(utf8(2°20'35.09\"W))\n",
    "    -2.34330555556F\n",
    "    \n",
    "    \"\"\"\n",
    "    \n",
    "    dms_str = re.sub(r'\\s', '', dms_str)\n",
    "    \n",
    "    sign = -1 if re.search('[swSW]', dms_str) else 1\n",
    "    \n",
    "    numbers = [*filter(len, re.split('\\D+', dms_str, maxsplit=4))]\n",
    "\n",
    "    degree = numbers[0]\n",
    "    minute = numbers[1] if len(numbers) >= 2 else '0'\n",
    "    second = numbers[2] if len(numbers) >= 3 else '0'\n",
    "    frac_seconds = numbers[3] if len(numbers) >= 4 else '0'\n",
    "    \n",
    "    second += \".\" + frac_seconds\n",
    "    return sign * (int(degree) + float(minute) / 60 + float(second) / 3600)"
   ]
  },
  {
   "cell_type": "code",
   "execution_count": 18,
   "metadata": {},
   "outputs": [
    {
     "data": {
      "text/html": [
       "<div>\n",
       "<style scoped>\n",
       "    .dataframe tbody tr th:only-of-type {\n",
       "        vertical-align: middle;\n",
       "    }\n",
       "\n",
       "    .dataframe tbody tr th {\n",
       "        vertical-align: top;\n",
       "    }\n",
       "\n",
       "    .dataframe thead th {\n",
       "        text-align: right;\n",
       "    }\n",
       "</style>\n",
       "<table border=\"1\" class=\"dataframe\">\n",
       "  <thead>\n",
       "    <tr style=\"text-align: right;\">\n",
       "      <th></th>\n",
       "      <th>mountains</th>\n",
       "      <th>picture</th>\n",
       "      <th>coordinate</th>\n",
       "    </tr>\n",
       "  </thead>\n",
       "  <tbody>\n",
       "    <tr>\n",
       "      <th>0</th>\n",
       "      <td>Mount Everest</td>\n",
       "      <td>https://upload.wikimedia.org/wikipedia/commons...</td>\n",
       "      <td>27°59′17″N 86°55′31″E</td>\n",
       "    </tr>\n",
       "    <tr>\n",
       "      <th>1</th>\n",
       "      <td>Kanchenjunga</td>\n",
       "      <td>https://upload.wikimedia.org/wikipedia/commons...</td>\n",
       "      <td>27°42′09″N 88°08′48″E</td>\n",
       "    </tr>\n",
       "    <tr>\n",
       "      <th>2</th>\n",
       "      <td>Lhotse</td>\n",
       "      <td>https://upload.wikimedia.org/wikipedia/commons...</td>\n",
       "      <td>27°57′42″N 86°56′00″E</td>\n",
       "    </tr>\n",
       "    <tr>\n",
       "      <th>3</th>\n",
       "      <td>Makalu</td>\n",
       "      <td>https://upload.wikimedia.org/wikipedia/commons...</td>\n",
       "      <td>27°53′21″N 87°05′19″E</td>\n",
       "    </tr>\n",
       "    <tr>\n",
       "      <th>4</th>\n",
       "      <td>Cho Oyu</td>\n",
       "      <td>https://upload.wikimedia.org/wikipedia/commons...</td>\n",
       "      <td>28°05′39″N 86°39′39″E</td>\n",
       "    </tr>\n",
       "  </tbody>\n",
       "</table>\n",
       "</div>"
      ],
      "text/plain": [
       "       mountains                                            picture  \\\n",
       "0  Mount Everest  https://upload.wikimedia.org/wikipedia/commons...   \n",
       "1   Kanchenjunga  https://upload.wikimedia.org/wikipedia/commons...   \n",
       "2         Lhotse  https://upload.wikimedia.org/wikipedia/commons...   \n",
       "3         Makalu  https://upload.wikimedia.org/wikipedia/commons...   \n",
       "4        Cho Oyu  https://upload.wikimedia.org/wikipedia/commons...   \n",
       "\n",
       "              coordinate  \n",
       "0  27°59′17″N 86°55′31″E  \n",
       "1  27°42′09″N 88°08′48″E  \n",
       "2  27°57′42″N 86°56′00″E  \n",
       "3  27°53′21″N 87°05′19″E  \n",
       "4  28°05′39″N 86°39′39″E  "
      ]
     },
     "execution_count": 18,
     "metadata": {},
     "output_type": "execute_result"
    }
   ],
   "source": [
    "df.head()"
   ]
  },
  {
   "cell_type": "code",
   "execution_count": 19,
   "metadata": {},
   "outputs": [],
   "source": [
    "df['lat'] = df.coordinate.apply(dms2dec, list_index=0)\n",
    "df['lon'] = df.coordinate.apply(dms2dec, list_index=1)"
   ]
  },
  {
   "cell_type": "code",
   "execution_count": 35,
   "metadata": {},
   "outputs": [],
   "source": [
    "df.head(20).to_csv('mountains_image.csv')"
   ]
  },
  {
   "cell_type": "code",
   "execution_count": 21,
   "metadata": {},
   "outputs": [
    {
     "data": {
      "text/html": [
       "<div>\n",
       "<style scoped>\n",
       "    .dataframe tbody tr th:only-of-type {\n",
       "        vertical-align: middle;\n",
       "    }\n",
       "\n",
       "    .dataframe tbody tr th {\n",
       "        vertical-align: top;\n",
       "    }\n",
       "\n",
       "    .dataframe thead th {\n",
       "        text-align: right;\n",
       "    }\n",
       "</style>\n",
       "<table border=\"1\" class=\"dataframe\">\n",
       "  <thead>\n",
       "    <tr style=\"text-align: right;\">\n",
       "      <th></th>\n",
       "      <th>mountains</th>\n",
       "      <th>picture</th>\n",
       "      <th>coordinate</th>\n",
       "      <th>lat</th>\n",
       "      <th>lon</th>\n",
       "    </tr>\n",
       "  </thead>\n",
       "  <tbody>\n",
       "    <tr>\n",
       "      <th>73</th>\n",
       "      <td>Kala Patthar</td>\n",
       "      <td>https://upload.wikimedia.org/wikipedia/commons...</td>\n",
       "      <td>27°59.750′N 86°49.705′E</td>\n",
       "      <td>28.191667</td>\n",
       "      <td>87.0125</td>\n",
       "    </tr>\n",
       "  </tbody>\n",
       "</table>\n",
       "</div>"
      ],
      "text/plain": [
       "       mountains                                            picture  \\\n",
       "73  Kala Patthar  https://upload.wikimedia.org/wikipedia/commons...   \n",
       "\n",
       "                 coordinate        lat      lon  \n",
       "73  27°59.750′N 86°49.705′E  28.191667  87.0125  "
      ]
     },
     "execution_count": 21,
     "metadata": {},
     "output_type": "execute_result"
    }
   ],
   "source": [
    "df[df.mountains=='Kala Patthar']"
   ]
  },
  {
   "cell_type": "code",
   "execution_count": 23,
   "metadata": {},
   "outputs": [
    {
     "data": {
      "text/plain": [
       "87.0125"
      ]
     },
     "execution_count": 23,
     "metadata": {},
     "output_type": "execute_result"
    }
   ],
   "source": [
    "dms2dec('27°59.750′N 86°49.705′E', 1)"
   ]
  },
  {
   "cell_type": "code",
   "execution_count": 24,
   "metadata": {},
   "outputs": [],
   "source": [
    "# 27.995833, 86.828417"
   ]
  },
  {
   "cell_type": "code",
   "execution_count": 31,
   "metadata": {},
   "outputs": [],
   "source": [
    "\n",
    "#!/env/python\n",
    "# coding=utf8\n",
    "\n",
    "\"\"\"\n",
    "Converting Degrees, Minutes, Seconds formatted coordinate strings to decimal. \n",
    "Formula:\n",
    "DEC = (DEG + (MIN * 1/60) + (SEC * 1/60 * 1/60))\n",
    "Assumes S/W are negative. \n",
    "\"\"\"\n",
    "\n",
    "import re\n",
    "\n",
    "def dms2dec(dms_str):\n",
    "    \"\"\"Return decimal representation of DMS\n",
    "    \n",
    "    >>> dms2dec(utf8(48°53'10.18\"N))\n",
    "    48.8866111111F\n",
    "    \n",
    "    >>> dms2dec(utf8(2°20'35.09\"E))\n",
    "    2.34330555556F\n",
    "    \n",
    "    >>> dms2dec(utf8(48°53'10.18\"S))\n",
    "    -48.8866111111F\n",
    "    \n",
    "    >>> dms2dec(utf8(2°20'35.09\"W))\n",
    "    -2.34330555556F\n",
    "    \n",
    "    \"\"\"\n",
    "    \n",
    "    dms_str = re.sub(r'\\s', '', dms_str)\n",
    "    \n",
    "    sign = -1 if re.search('[swSW]', dms_str) else 1\n",
    "    \n",
    "    numbers = [*filter(len, re.split('\\D+', dms_str, maxsplit=4))]\n",
    "\n",
    "    degree = numbers[0]\n",
    "    minute = numbers[1] if len(numbers) >= 2 else '0'\n",
    "    second = numbers[2] if len(numbers) >= 3 else '0'\n",
    "    frac_seconds = numbers[3] if len(numbers) >= 4 else '0'\n",
    "    \n",
    "    second += \".\" + frac_seconds\n",
    "    return sign * (int(degree) + float(minute) / 60 + float(second) / 3600)"
   ]
  },
  {
   "cell_type": "code",
   "execution_count": 32,
   "metadata": {},
   "outputs": [
    {
     "data": {
      "text/plain": [
       "28.191666666666666"
      ]
     },
     "execution_count": 32,
     "metadata": {},
     "output_type": "execute_result"
    }
   ],
   "source": [
    "dms2dec('27°59′750′′N')"
   ]
  },
  {
   "cell_type": "code",
   "execution_count": 27,
   "metadata": {},
   "outputs": [
    {
     "data": {
      "text/html": [
       "<div>\n",
       "<style scoped>\n",
       "    .dataframe tbody tr th:only-of-type {\n",
       "        vertical-align: middle;\n",
       "    }\n",
       "\n",
       "    .dataframe tbody tr th {\n",
       "        vertical-align: top;\n",
       "    }\n",
       "\n",
       "    .dataframe thead th {\n",
       "        text-align: right;\n",
       "    }\n",
       "</style>\n",
       "<table border=\"1\" class=\"dataframe\">\n",
       "  <thead>\n",
       "    <tr style=\"text-align: right;\">\n",
       "      <th></th>\n",
       "      <th>mountains</th>\n",
       "      <th>picture</th>\n",
       "      <th>coordinate</th>\n",
       "      <th>lat</th>\n",
       "      <th>lon</th>\n",
       "    </tr>\n",
       "  </thead>\n",
       "  <tbody>\n",
       "    <tr>\n",
       "      <th>0</th>\n",
       "      <td>Mount Everest</td>\n",
       "      <td>https://upload.wikimedia.org/wikipedia/commons...</td>\n",
       "      <td>27°59′17″N 86°55′31″E</td>\n",
       "      <td>27.988056</td>\n",
       "      <td>86.925278</td>\n",
       "    </tr>\n",
       "  </tbody>\n",
       "</table>\n",
       "</div>"
      ],
      "text/plain": [
       "       mountains                                            picture  \\\n",
       "0  Mount Everest  https://upload.wikimedia.org/wikipedia/commons...   \n",
       "\n",
       "              coordinate        lat        lon  \n",
       "0  27°59′17″N 86°55′31″E  27.988056  86.925278  "
      ]
     },
     "execution_count": 27,
     "metadata": {},
     "output_type": "execute_result"
    }
   ],
   "source": [
    "df[df.mountains=='Mount Everest']"
   ]
  },
  {
   "cell_type": "code",
   "execution_count": 28,
   "metadata": {},
   "outputs": [
    {
     "data": {
      "text/plain": [
       "27.988055555555558"
      ]
     },
     "execution_count": 28,
     "metadata": {},
     "output_type": "execute_result"
    }
   ],
   "source": [
    "dms2dec('27°59′17″N')"
   ]
  },
  {
   "cell_type": "code",
   "execution_count": null,
   "metadata": {},
   "outputs": [],
   "source": []
  }
 ],
 "metadata": {
  "kernelspec": {
   "display_name": "Python 3",
   "language": "python",
   "name": "python3"
  },
  "language_info": {
   "codemirror_mode": {
    "name": "ipython",
    "version": 3
   },
   "file_extension": ".py",
   "mimetype": "text/x-python",
   "name": "python",
   "nbconvert_exporter": "python",
   "pygments_lexer": "ipython3",
   "version": "3.7.3"
  }
 },
 "nbformat": 4,
 "nbformat_minor": 2
}
